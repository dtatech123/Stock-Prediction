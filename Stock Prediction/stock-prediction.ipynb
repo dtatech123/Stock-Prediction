{
 "cells": [
  {
   "cell_type": "code",
   "execution_count": 1,
   "id": "f678022b",
   "metadata": {},
   "outputs": [],
   "source": [
    "import numpy as np\n",
    "import pandas as pd\n",
    "import matplotlib.pyplot as plt\n",
    "import pandas_datareader as data"
   ]
  },
  {
   "cell_type": "code",
   "execution_count": 2,
   "id": "355dff72",
   "metadata": {},
   "outputs": [
    {
     "data": {
      "text/plain": [
       "('2010-01-01', datetime.datetime(2023, 6, 8, 21, 28, 51, 848196))"
      ]
     },
     "execution_count": 2,
     "metadata": {},
     "output_type": "execute_result"
    }
   ],
   "source": [
    "import datetime as dt\n",
    "import yfinance as yf\n",
    "start='2010-01-01'\n",
    "end=dt.datetime.now()\n",
    "start,end"
   ]
  },
  {
   "cell_type": "code",
   "execution_count": 3,
   "id": "2849e92d",
   "metadata": {},
   "outputs": [
    {
     "name": "stdout",
     "output_type": "stream",
     "text": [
      "[*********************100%***********************]  1 of 1 completed\n"
     ]
    },
    {
     "data": {
      "text/html": [
       "<div>\n",
       "<style scoped>\n",
       "    .dataframe tbody tr th:only-of-type {\n",
       "        vertical-align: middle;\n",
       "    }\n",
       "\n",
       "    .dataframe tbody tr th {\n",
       "        vertical-align: top;\n",
       "    }\n",
       "\n",
       "    .dataframe thead th {\n",
       "        text-align: right;\n",
       "    }\n",
       "</style>\n",
       "<table border=\"1\" class=\"dataframe\">\n",
       "  <thead>\n",
       "    <tr style=\"text-align: right;\">\n",
       "      <th></th>\n",
       "      <th>Open</th>\n",
       "      <th>High</th>\n",
       "      <th>Low</th>\n",
       "      <th>Close</th>\n",
       "      <th>Adj Close</th>\n",
       "      <th>Volume</th>\n",
       "    </tr>\n",
       "    <tr>\n",
       "      <th>Date</th>\n",
       "      <th></th>\n",
       "      <th></th>\n",
       "      <th></th>\n",
       "      <th></th>\n",
       "      <th></th>\n",
       "      <th></th>\n",
       "    </tr>\n",
       "  </thead>\n",
       "  <tbody>\n",
       "    <tr>\n",
       "      <th>2010-01-04</th>\n",
       "      <td>7.622500</td>\n",
       "      <td>7.660714</td>\n",
       "      <td>7.585000</td>\n",
       "      <td>7.643214</td>\n",
       "      <td>6.496296</td>\n",
       "      <td>493729600</td>\n",
       "    </tr>\n",
       "    <tr>\n",
       "      <th>2010-01-05</th>\n",
       "      <td>7.664286</td>\n",
       "      <td>7.699643</td>\n",
       "      <td>7.616071</td>\n",
       "      <td>7.656429</td>\n",
       "      <td>6.507526</td>\n",
       "      <td>601904800</td>\n",
       "    </tr>\n",
       "    <tr>\n",
       "      <th>2010-01-06</th>\n",
       "      <td>7.656429</td>\n",
       "      <td>7.686786</td>\n",
       "      <td>7.526786</td>\n",
       "      <td>7.534643</td>\n",
       "      <td>6.404013</td>\n",
       "      <td>552160000</td>\n",
       "    </tr>\n",
       "    <tr>\n",
       "      <th>2010-01-07</th>\n",
       "      <td>7.562500</td>\n",
       "      <td>7.571429</td>\n",
       "      <td>7.466071</td>\n",
       "      <td>7.520714</td>\n",
       "      <td>6.392176</td>\n",
       "      <td>477131200</td>\n",
       "    </tr>\n",
       "    <tr>\n",
       "      <th>2010-01-08</th>\n",
       "      <td>7.510714</td>\n",
       "      <td>7.571429</td>\n",
       "      <td>7.466429</td>\n",
       "      <td>7.570714</td>\n",
       "      <td>6.434675</td>\n",
       "      <td>447610800</td>\n",
       "    </tr>\n",
       "  </tbody>\n",
       "</table>\n",
       "</div>"
      ],
      "text/plain": [
       "                Open      High       Low     Close  Adj Close     Volume\n",
       "Date                                                                    \n",
       "2010-01-04  7.622500  7.660714  7.585000  7.643214   6.496296  493729600\n",
       "2010-01-05  7.664286  7.699643  7.616071  7.656429   6.507526  601904800\n",
       "2010-01-06  7.656429  7.686786  7.526786  7.534643   6.404013  552160000\n",
       "2010-01-07  7.562500  7.571429  7.466071  7.520714   6.392176  477131200\n",
       "2010-01-08  7.510714  7.571429  7.466429  7.570714   6.434675  447610800"
      ]
     },
     "execution_count": 3,
     "metadata": {},
     "output_type": "execute_result"
    }
   ],
   "source": [
    "df=yf.download('AAPL',start,end)\n",
    "df.head()"
   ]
  },
  {
   "cell_type": "code",
   "execution_count": 4,
   "id": "c4ce9f4f",
   "metadata": {},
   "outputs": [
    {
     "data": {
      "text/html": [
       "<div>\n",
       "<style scoped>\n",
       "    .dataframe tbody tr th:only-of-type {\n",
       "        vertical-align: middle;\n",
       "    }\n",
       "\n",
       "    .dataframe tbody tr th {\n",
       "        vertical-align: top;\n",
       "    }\n",
       "\n",
       "    .dataframe thead th {\n",
       "        text-align: right;\n",
       "    }\n",
       "</style>\n",
       "<table border=\"1\" class=\"dataframe\">\n",
       "  <thead>\n",
       "    <tr style=\"text-align: right;\">\n",
       "      <th></th>\n",
       "      <th>Open</th>\n",
       "      <th>High</th>\n",
       "      <th>Low</th>\n",
       "      <th>Close</th>\n",
       "      <th>Adj Close</th>\n",
       "      <th>Volume</th>\n",
       "    </tr>\n",
       "    <tr>\n",
       "      <th>Date</th>\n",
       "      <th></th>\n",
       "      <th></th>\n",
       "      <th></th>\n",
       "      <th></th>\n",
       "      <th></th>\n",
       "      <th></th>\n",
       "    </tr>\n",
       "  </thead>\n",
       "  <tbody>\n",
       "    <tr>\n",
       "      <th>2023-06-02</th>\n",
       "      <td>181.029999</td>\n",
       "      <td>181.779999</td>\n",
       "      <td>179.259995</td>\n",
       "      <td>180.949997</td>\n",
       "      <td>180.949997</td>\n",
       "      <td>61945900</td>\n",
       "    </tr>\n",
       "    <tr>\n",
       "      <th>2023-06-05</th>\n",
       "      <td>182.630005</td>\n",
       "      <td>184.949997</td>\n",
       "      <td>178.039993</td>\n",
       "      <td>179.580002</td>\n",
       "      <td>179.580002</td>\n",
       "      <td>121946500</td>\n",
       "    </tr>\n",
       "    <tr>\n",
       "      <th>2023-06-06</th>\n",
       "      <td>179.970001</td>\n",
       "      <td>180.119995</td>\n",
       "      <td>177.429993</td>\n",
       "      <td>179.210007</td>\n",
       "      <td>179.210007</td>\n",
       "      <td>64848400</td>\n",
       "    </tr>\n",
       "    <tr>\n",
       "      <th>2023-06-07</th>\n",
       "      <td>178.440002</td>\n",
       "      <td>181.210007</td>\n",
       "      <td>177.320007</td>\n",
       "      <td>177.820007</td>\n",
       "      <td>177.820007</td>\n",
       "      <td>61889100</td>\n",
       "    </tr>\n",
       "    <tr>\n",
       "      <th>2023-06-08</th>\n",
       "      <td>177.895004</td>\n",
       "      <td>179.880005</td>\n",
       "      <td>177.460007</td>\n",
       "      <td>179.710007</td>\n",
       "      <td>179.710007</td>\n",
       "      <td>19008255</td>\n",
       "    </tr>\n",
       "  </tbody>\n",
       "</table>\n",
       "</div>"
      ],
      "text/plain": [
       "                  Open        High         Low       Close   Adj Close   \n",
       "Date                                                                     \n",
       "2023-06-02  181.029999  181.779999  179.259995  180.949997  180.949997  \\\n",
       "2023-06-05  182.630005  184.949997  178.039993  179.580002  179.580002   \n",
       "2023-06-06  179.970001  180.119995  177.429993  179.210007  179.210007   \n",
       "2023-06-07  178.440002  181.210007  177.320007  177.820007  177.820007   \n",
       "2023-06-08  177.895004  179.880005  177.460007  179.710007  179.710007   \n",
       "\n",
       "               Volume  \n",
       "Date                   \n",
       "2023-06-02   61945900  \n",
       "2023-06-05  121946500  \n",
       "2023-06-06   64848400  \n",
       "2023-06-07   61889100  \n",
       "2023-06-08   19008255  "
      ]
     },
     "execution_count": 4,
     "metadata": {},
     "output_type": "execute_result"
    }
   ],
   "source": [
    "df.tail()"
   ]
  },
  {
   "cell_type": "code",
   "execution_count": 5,
   "id": "c947146d",
   "metadata": {},
   "outputs": [
    {
     "data": {
      "text/html": [
       "<div>\n",
       "<style scoped>\n",
       "    .dataframe tbody tr th:only-of-type {\n",
       "        vertical-align: middle;\n",
       "    }\n",
       "\n",
       "    .dataframe tbody tr th {\n",
       "        vertical-align: top;\n",
       "    }\n",
       "\n",
       "    .dataframe thead th {\n",
       "        text-align: right;\n",
       "    }\n",
       "</style>\n",
       "<table border=\"1\" class=\"dataframe\">\n",
       "  <thead>\n",
       "    <tr style=\"text-align: right;\">\n",
       "      <th></th>\n",
       "      <th>Date</th>\n",
       "      <th>Open</th>\n",
       "      <th>High</th>\n",
       "      <th>Low</th>\n",
       "      <th>Close</th>\n",
       "      <th>Adj Close</th>\n",
       "      <th>Volume</th>\n",
       "    </tr>\n",
       "  </thead>\n",
       "  <tbody>\n",
       "    <tr>\n",
       "      <th>0</th>\n",
       "      <td>2010-01-04</td>\n",
       "      <td>7.622500</td>\n",
       "      <td>7.660714</td>\n",
       "      <td>7.585000</td>\n",
       "      <td>7.643214</td>\n",
       "      <td>6.496296</td>\n",
       "      <td>493729600</td>\n",
       "    </tr>\n",
       "    <tr>\n",
       "      <th>1</th>\n",
       "      <td>2010-01-05</td>\n",
       "      <td>7.664286</td>\n",
       "      <td>7.699643</td>\n",
       "      <td>7.616071</td>\n",
       "      <td>7.656429</td>\n",
       "      <td>6.507526</td>\n",
       "      <td>601904800</td>\n",
       "    </tr>\n",
       "    <tr>\n",
       "      <th>2</th>\n",
       "      <td>2010-01-06</td>\n",
       "      <td>7.656429</td>\n",
       "      <td>7.686786</td>\n",
       "      <td>7.526786</td>\n",
       "      <td>7.534643</td>\n",
       "      <td>6.404013</td>\n",
       "      <td>552160000</td>\n",
       "    </tr>\n",
       "    <tr>\n",
       "      <th>3</th>\n",
       "      <td>2010-01-07</td>\n",
       "      <td>7.562500</td>\n",
       "      <td>7.571429</td>\n",
       "      <td>7.466071</td>\n",
       "      <td>7.520714</td>\n",
       "      <td>6.392176</td>\n",
       "      <td>477131200</td>\n",
       "    </tr>\n",
       "    <tr>\n",
       "      <th>4</th>\n",
       "      <td>2010-01-08</td>\n",
       "      <td>7.510714</td>\n",
       "      <td>7.571429</td>\n",
       "      <td>7.466429</td>\n",
       "      <td>7.570714</td>\n",
       "      <td>6.434675</td>\n",
       "      <td>447610800</td>\n",
       "    </tr>\n",
       "  </tbody>\n",
       "</table>\n",
       "</div>"
      ],
      "text/plain": [
       "        Date      Open      High       Low     Close  Adj Close     Volume\n",
       "0 2010-01-04  7.622500  7.660714  7.585000  7.643214   6.496296  493729600\n",
       "1 2010-01-05  7.664286  7.699643  7.616071  7.656429   6.507526  601904800\n",
       "2 2010-01-06  7.656429  7.686786  7.526786  7.534643   6.404013  552160000\n",
       "3 2010-01-07  7.562500  7.571429  7.466071  7.520714   6.392176  477131200\n",
       "4 2010-01-08  7.510714  7.571429  7.466429  7.570714   6.434675  447610800"
      ]
     },
     "execution_count": 5,
     "metadata": {},
     "output_type": "execute_result"
    }
   ],
   "source": [
    "df=df.reset_index()\n",
    "df.head()"
   ]
  },
  {
   "cell_type": "code",
   "execution_count": 6,
   "id": "078accdf",
   "metadata": {},
   "outputs": [
    {
     "data": {
      "text/html": [
       "<div>\n",
       "<style scoped>\n",
       "    .dataframe tbody tr th:only-of-type {\n",
       "        vertical-align: middle;\n",
       "    }\n",
       "\n",
       "    .dataframe tbody tr th {\n",
       "        vertical-align: top;\n",
       "    }\n",
       "\n",
       "    .dataframe thead th {\n",
       "        text-align: right;\n",
       "    }\n",
       "</style>\n",
       "<table border=\"1\" class=\"dataframe\">\n",
       "  <thead>\n",
       "    <tr style=\"text-align: right;\">\n",
       "      <th></th>\n",
       "      <th>Open</th>\n",
       "      <th>High</th>\n",
       "      <th>Low</th>\n",
       "      <th>Close</th>\n",
       "      <th>Volume</th>\n",
       "    </tr>\n",
       "  </thead>\n",
       "  <tbody>\n",
       "    <tr>\n",
       "      <th>0</th>\n",
       "      <td>7.622500</td>\n",
       "      <td>7.660714</td>\n",
       "      <td>7.585000</td>\n",
       "      <td>7.643214</td>\n",
       "      <td>493729600</td>\n",
       "    </tr>\n",
       "    <tr>\n",
       "      <th>1</th>\n",
       "      <td>7.664286</td>\n",
       "      <td>7.699643</td>\n",
       "      <td>7.616071</td>\n",
       "      <td>7.656429</td>\n",
       "      <td>601904800</td>\n",
       "    </tr>\n",
       "    <tr>\n",
       "      <th>2</th>\n",
       "      <td>7.656429</td>\n",
       "      <td>7.686786</td>\n",
       "      <td>7.526786</td>\n",
       "      <td>7.534643</td>\n",
       "      <td>552160000</td>\n",
       "    </tr>\n",
       "    <tr>\n",
       "      <th>3</th>\n",
       "      <td>7.562500</td>\n",
       "      <td>7.571429</td>\n",
       "      <td>7.466071</td>\n",
       "      <td>7.520714</td>\n",
       "      <td>477131200</td>\n",
       "    </tr>\n",
       "    <tr>\n",
       "      <th>4</th>\n",
       "      <td>7.510714</td>\n",
       "      <td>7.571429</td>\n",
       "      <td>7.466429</td>\n",
       "      <td>7.570714</td>\n",
       "      <td>447610800</td>\n",
       "    </tr>\n",
       "  </tbody>\n",
       "</table>\n",
       "</div>"
      ],
      "text/plain": [
       "       Open      High       Low     Close     Volume\n",
       "0  7.622500  7.660714  7.585000  7.643214  493729600\n",
       "1  7.664286  7.699643  7.616071  7.656429  601904800\n",
       "2  7.656429  7.686786  7.526786  7.534643  552160000\n",
       "3  7.562500  7.571429  7.466071  7.520714  477131200\n",
       "4  7.510714  7.571429  7.466429  7.570714  447610800"
      ]
     },
     "execution_count": 6,
     "metadata": {},
     "output_type": "execute_result"
    }
   ],
   "source": [
    "df=df.drop(['Date','Adj Close'],axis=1)\n",
    "df.head()"
   ]
  },
  {
   "cell_type": "code",
   "execution_count": 7,
   "id": "e42559a2",
   "metadata": {},
   "outputs": [
    {
     "data": {
      "text/plain": [
       "[<matplotlib.lines.Line2D at 0x20fe2e7d7e0>]"
      ]
     },
     "execution_count": 7,
     "metadata": {},
     "output_type": "execute_result"
    },
    {
     "data": {
      "image/png": "[encoded data removed]",
      "text/plain": [
       "<Figure size 640x480 with 1 Axes>"
      ]
     },
     "metadata": {},
     "output_type": "display_data"
    }
   ],
   "source": [
    "plt.plot(df.Close)"
   ]
  },
  {
   "cell_type": "code",
   "execution_count": 8,
   "id": "9ea74bb0",
   "metadata": {},
   "outputs": [
    {
     "data": {
      "text/plain": [
       "0            NaN\n",
       "1            NaN\n",
       "2            NaN\n",
       "3            NaN\n",
       "4            NaN\n",
       "          ...   \n",
       "3376    158.0656\n",
       "3377    158.5541\n",
       "3378    159.0113\n",
       "3379    159.4554\n",
       "3380    159.9049\n",
       "Name: Close, Length: 3381, dtype: float64"
      ]
     },
     "execution_count": 8,
     "metadata": {},
     "output_type": "execute_result"
    }
   ],
   "source": [
    "ma100=df.Close.rolling(100).mean()\n",
    "ma100"
   ]
  },
  {
   "cell_type": "code",
   "execution_count": 9,
   "id": "21ae0574",
   "metadata": {},
   "outputs": [
    {
     "data": {
      "text/plain": [
       "[<matplotlib.lines.Line2D at 0x20fe3fa2a40>]"
      ]
     },
     "execution_count": 9,
     "metadata": {},
     "output_type": "execute_result"
    },
    {
     "data": {
      "image/png": "[encoded data removed]",
      "text/plain": [
       "<Figure size 1200x600 with 1 Axes>"
      ]
     },
     "metadata": {},
     "output_type": "display_data"
    }
   ],
   "source": [
    "plt.figure(figsize=(12,6))\n",
    "plt.plot(df.Close)\n",
    "plt.plot(ma100,'r')"
   ]
  },
  {
   "cell_type": "code",
   "execution_count": 10,
   "id": "09ad6ff7",
   "metadata": {},
   "outputs": [
    {
     "data": {
      "text/plain": [
       "0             NaN\n",
       "1             NaN\n",
       "2             NaN\n",
       "3             NaN\n",
       "4             NaN\n",
       "          ...    \n",
       "3376    152.46475\n",
       "3377    152.48990\n",
       "3378    152.51520\n",
       "3379    152.54670\n",
       "3380    152.60740\n",
       "Name: Close, Length: 3381, dtype: float64"
      ]
     },
     "execution_count": 10,
     "metadata": {},
     "output_type": "execute_result"
    }
   ],
   "source": [
    "ma200=df.Close.rolling(200).mean()\n",
    "ma200"
   ]
  },
  {
   "cell_type": "code",
   "execution_count": 11,
   "id": "e48e8149",
   "metadata": {},
   "outputs": [
    {
     "data": {
      "text/plain": [
       "[<matplotlib.lines.Line2D at 0x20fe3f834c0>]"
      ]
     },
     "execution_count": 11,
     "metadata": {},
     "output_type": "execute_result"
    },
    {
     "data": {
      "image/png": "[encoded data removed]",
      "text/plain": [
       "<Figure size 1200x600 with 1 Axes>"
      ]
     },
     "metadata": {},
     "output_type": "display_data"
    }
   ],
   "source": [
    "plt.figure(figsize=(12,6))\n",
    "plt.plot(df.Close)\n",
    "plt.plot(ma100,'r')\n",
    "plt.plot(ma200,'g')"
   ]
  },
  {
   "cell_type": "code",
   "execution_count": 12,
   "id": "44190fa0",
   "metadata": {},
   "outputs": [
    {
     "data": {
      "text/plain": [
       "(3381, 5)"
      ]
     },
     "execution_count": 12,
     "metadata": {},
     "output_type": "execute_result"
    }
   ],
   "source": [
    "df.shape"
   ]
  },
  {
   "cell_type": "code",
   "execution_count": 13,
   "id": "a726647f",
   "metadata": {},
   "outputs": [
    {
     "name": "stdout",
     "output_type": "stream",
     "text": [
      "(2366, 1)\n",
      "(1015, 1)\n"
     ]
    }
   ],
   "source": [
    "#Splitting data into training and testing\n",
    "\n",
    "data_training=pd.DataFrame(df['Close'][0:int(len(df)*0.70)])\n",
    "data_testing=pd.DataFrame(df['Close'][int(len(df)*0.70):int(len(df))])\n",
    "\n",
    "print(data_training.shape)\n",
    "print(data_testing.shape)"
   ]
  },
  {
   "cell_type": "code",
   "execution_count": 14,
   "id": "8c2f78c5",
   "metadata": {},
   "outputs": [
    {
     "data": {
      "text/html": [
       "<div>\n",
       "<style scoped>\n",
       "    .dataframe tbody tr th:only-of-type {\n",
       "        vertical-align: middle;\n",
       "    }\n",
       "\n",
       "    .dataframe tbody tr th {\n",
       "        vertical-align: top;\n",
       "    }\n",
       "\n",
       "    .dataframe thead th {\n",
       "        text-align: right;\n",
       "    }\n",
       "</style>\n",
       "<table border=\"1\" class=\"dataframe\">\n",
       "  <thead>\n",
       "    <tr style=\"text-align: right;\">\n",
       "      <th></th>\n",
       "      <th>Close</th>\n",
       "    </tr>\n",
       "  </thead>\n",
       "  <tbody>\n",
       "    <tr>\n",
       "      <th>0</th>\n",
       "      <td>7.643214</td>\n",
       "    </tr>\n",
       "    <tr>\n",
       "      <th>1</th>\n",
       "      <td>7.656429</td>\n",
       "    </tr>\n",
       "    <tr>\n",
       "      <th>2</th>\n",
       "      <td>7.534643</td>\n",
       "    </tr>\n",
       "    <tr>\n",
       "      <th>3</th>\n",
       "      <td>7.520714</td>\n",
       "    </tr>\n",
       "    <tr>\n",
       "      <th>4</th>\n",
       "      <td>7.570714</td>\n",
       "    </tr>\n",
       "  </tbody>\n",
       "</table>\n",
       "</div>"
      ],
      "text/plain": [
       "      Close\n",
       "0  7.643214\n",
       "1  7.656429\n",
       "2  7.534643\n",
       "3  7.520714\n",
       "4  7.570714"
      ]
     },
     "execution_count": 14,
     "metadata": {},
     "output_type": "execute_result"
    }
   ],
   "source": [
    "data_training.head()"
   ]
  },
  {
   "cell_type": "code",
   "execution_count": 15,
   "id": "bf4617c0",
   "metadata": {},
   "outputs": [
    {
     "data": {
      "text/html": [
       "<div>\n",
       "<style scoped>\n",
       "    .dataframe tbody tr th:only-of-type {\n",
       "        vertical-align: middle;\n",
       "    }\n",
       "\n",
       "    .dataframe tbody tr th {\n",
       "        vertical-align: top;\n",
       "    }\n",
       "\n",
       "    .dataframe thead th {\n",
       "        text-align: right;\n",
       "    }\n",
       "</style>\n",
       "<table border=\"1\" class=\"dataframe\">\n",
       "  <thead>\n",
       "    <tr style=\"text-align: right;\">\n",
       "      <th></th>\n",
       "      <th>Close</th>\n",
       "    </tr>\n",
       "  </thead>\n",
       "  <tbody>\n",
       "    <tr>\n",
       "      <th>2366</th>\n",
       "      <td>44.575001</td>\n",
       "    </tr>\n",
       "    <tr>\n",
       "      <th>2367</th>\n",
       "      <td>43.767502</td>\n",
       "    </tr>\n",
       "    <tr>\n",
       "      <th>2368</th>\n",
       "      <td>43.325001</td>\n",
       "    </tr>\n",
       "    <tr>\n",
       "      <th>2369</th>\n",
       "      <td>44.910000</td>\n",
       "    </tr>\n",
       "    <tr>\n",
       "      <th>2370</th>\n",
       "      <td>45.634998</td>\n",
       "    </tr>\n",
       "  </tbody>\n",
       "</table>\n",
       "</div>"
      ],
      "text/plain": [
       "          Close\n",
       "2366  44.575001\n",
       "2367  43.767502\n",
       "2368  43.325001\n",
       "2369  44.910000\n",
       "2370  45.634998"
      ]
     },
     "execution_count": 15,
     "metadata": {},
     "output_type": "execute_result"
    }
   ],
   "source": [
    "data_testing.head()"
   ]
  },
  {
   "cell_type": "code",
   "execution_count": 16,
   "id": "d5fc38e6",
   "metadata": {},
   "outputs": [],
   "source": [
    "from sklearn.preprocessing import MinMaxScaler\n",
    "scaler=MinMaxScaler(feature_range=(0,1))"
   ]
  },
  {
   "cell_type": "code",
   "execution_count": 17,
   "id": "dab4c68f",
   "metadata": {},
   "outputs": [
    {
     "data": {
      "text/plain": [
       "array([[0.01533047],\n",
       "       [0.01558878],\n",
       "       [0.01320823],\n",
       "       ...,\n",
       "       [0.74051267],\n",
       "       [0.73689643],\n",
       "       [0.73274273]])"
      ]
     },
     "execution_count": 17,
     "metadata": {},
     "output_type": "execute_result"
    }
   ],
   "source": [
    "data_training_array = scaler.fit_transform(data_training)\n",
    "data_training_array"
   ]
  },
  {
   "cell_type": "code",
   "execution_count": 18,
   "id": "cea16323",
   "metadata": {},
   "outputs": [
    {
     "data": {
      "text/plain": [
       "(2366, 1)"
      ]
     },
     "execution_count": 18,
     "metadata": {},
     "output_type": "execute_result"
    }
   ],
   "source": [
    "data_training_array.shape"
   ]
  },
  {
   "cell_type": "code",
   "execution_count": 19,
   "id": "7f888a7f",
   "metadata": {},
   "outputs": [],
   "source": [
    "x_train = []\n",
    "y_train = []\n",
    "\n",
    "for i in range(100,data_training_array.shape[0]):\n",
    "    x_train.append(data_training_array[i-100:i])\n",
    "    y_train.append(data_training_array[i,0])\n",
    "    \n",
    "x_train,y_train = np.array(x_train),np.array(y_train)"
   ]
  },
  {
   "cell_type": "markdown",
   "id": "25cbe4b2",
   "metadata": {},
   "source": [
    "# Model"
   ]
  },
  {
   "cell_type": "code",
   "execution_count": 20,
   "id": "74394b3b",
   "metadata": {},
   "outputs": [],
   "source": [
    "from keras.layers import Dense,Dropout,LSTM\n",
    "from keras.models import Sequential"
   ]
  },
  {
   "cell_type": "code",
   "execution_count": 24,
   "id": "2acd2f45",
   "metadata": {},
   "outputs": [],
   "source": [
    "model = Sequential()\n",
    "model.add(LSTM(units=50,activation='relu',return_sequences=True,\n",
    "              input_shape=(x_train.shape[1],1)))\n",
    "model.add(Dropout(0.2))\n",
    "\n",
    "model.add(LSTM(units=60,activation='relu',return_sequences=True))\n",
    "model.add(Dropout(0.3))\n",
    "\n",
    "model.add(LSTM(units=80,activation='relu',return_sequences=True))\n",
    "model.add(Dropout(0.4))\n",
    "\n",
    "model.add(LSTM(units=120,activation='relu'))\n",
    "model.add(Dropout(0.5))\n",
    "\n",
    "model.add(Dense(units=1))"
   ]
  },
  {
   "cell_type": "code",
   "execution_count": 25,
   "id": "72b55614",
   "metadata": {},
   "outputs": [
    {
     "name": "stdout",
     "output_type": "stream",
     "text": [
      "Model: \"sequential_1\"\n",
      "_________________________________________________________________\n",
      " Layer (type)                Output Shape              Param #   \n",
      "=================================================================\n",
      " lstm_4 (LSTM)               (None, 100, 50)           10400     \n",
      "                                                                 \n",
      " dropout_4 (Dropout)         (None, 100, 50)           0         \n",
      "                                                                 \n",
      " lstm_5 (LSTM)               (None, 100, 60)           26640     \n",
      "                                                                 \n",
      " dropout_5 (Dropout)         (None, 100, 60)           0         \n",
      "                                                                 \n",
      " lstm_6 (LSTM)               (None, 100, 80)           45120     \n",
      "                                                                 \n",
      " dropout_6 (Dropout)         (None, 100, 80)           0         \n",
      "                                                                 \n",
      " lstm_7 (LSTM)               (None, 120)               96480     \n",
      "                                                                 \n",
      " dropout_7 (Dropout)         (None, 120)               0         \n",
      "                                                                 \n",
      " dense_1 (Dense)             (None, 1)                 121       \n",
      "                                                                 \n",
      "=================================================================\n",
      "Total params: 178,761\n",
      "Trainable params: 178,761\n",
      "Non-trainable params: 0\n",
      "_________________________________________________________________\n"
     ]
    }
   ],
   "source": [
    "model.summary()"
   ]
  },
  {
   "cell_type": "code",
   "execution_count": 26,
   "id": "a2683f94",
   "metadata": {},
   "outputs": [
    {
     "name": "stdout",
     "output_type": "stream",
     "text": [
      "Epoch 1/50\n",
      "71/71 [==============================] - 36s 390ms/step - loss: 0.0279\n",
      "Epoch 2/50\n",
      "71/71 [==============================] - 28s 400ms/step - loss: 0.0063\n",
      "Epoch 3/50\n",
      "71/71 [==============================] - 29s 403ms/step - loss: 0.0056\n",
      "Epoch 4/50\n",
      "71/71 [==============================] - 28s 401ms/step - loss: 0.0052\n",
      "Epoch 5/50\n",
      "71/71 [==============================] - 36s 507ms/step - loss: 0.0050\n",
      "Epoch 6/50\n",
      "71/71 [==============================] - 34s 472ms/step - loss: 0.0050\n",
      "Epoch 7/50\n",
      "71/71 [==============================] - 36s 513ms/step - loss: 0.0050\n",
      "Epoch 8/50\n",
      "71/71 [==============================] - 37s 515ms/step - loss: 0.0046\n",
      "Epoch 9/50\n",
      "71/71 [==============================] - 37s 527ms/step - loss: 0.0043\n",
      "Epoch 10/50\n",
      "71/71 [==============================] - 30s 423ms/step - loss: 0.0039\n",
      "Epoch 11/50\n",
      "71/71 [==============================] - 30s 416ms/step - loss: 0.0041\n",
      "Epoch 12/50\n",
      "71/71 [==============================] - 30s 423ms/step - loss: 0.0033\n",
      "Epoch 13/50\n",
      "71/71 [==============================] - 30s 429ms/step - loss: 0.0036\n",
      "Epoch 14/50\n",
      "71/71 [==============================] - 31s 431ms/step - loss: 0.0033\n",
      "Epoch 15/50\n",
      "71/71 [==============================] - 30s 424ms/step - loss: 0.0032\n",
      "Epoch 16/50\n",
      "71/71 [==============================] - 30s 418ms/step - loss: 0.0031\n",
      "Epoch 17/50\n",
      "71/71 [==============================] - 30s 423ms/step - loss: 0.0030\n",
      "Epoch 18/50\n",
      "71/71 [==============================] - 30s 418ms/step - loss: 0.0028\n",
      "Epoch 19/50\n",
      "71/71 [==============================] - 32s 451ms/step - loss: 0.0032\n",
      "Epoch 20/50\n",
      "71/71 [==============================] - 30s 422ms/step - loss: 0.0029\n",
      "Epoch 21/50\n",
      "71/71 [==============================] - 30s 424ms/step - loss: 0.0028\n",
      "Epoch 22/50\n",
      "71/71 [==============================] - 30s 419ms/step - loss: 0.0027\n",
      "Epoch 23/50\n",
      "71/71 [==============================] - 30s 421ms/step - loss: 0.0025\n",
      "Epoch 24/50\n",
      "71/71 [==============================] - 29s 411ms/step - loss: 0.0022\n",
      "Epoch 25/50\n",
      "71/71 [==============================] - 30s 421ms/step - loss: 0.0024\n",
      "Epoch 26/50\n",
      "71/71 [==============================] - 30s 421ms/step - loss: 0.0024\n",
      "Epoch 27/50\n",
      "71/71 [==============================] - 30s 424ms/step - loss: 0.0026\n",
      "Epoch 28/50\n",
      "71/71 [==============================] - 30s 424ms/step - loss: 0.0023\n",
      "Epoch 29/50\n",
      "71/71 [==============================] - 29s 410ms/step - loss: 0.0020\n",
      "Epoch 30/50\n",
      "71/71 [==============================] - 32s 450ms/step - loss: 0.0022\n",
      "Epoch 31/50\n",
      "71/71 [==============================] - 30s 420ms/step - loss: 0.0022\n",
      "Epoch 32/50\n",
      "71/71 [==============================] - 29s 415ms/step - loss: 0.0021\n",
      "Epoch 33/50\n",
      "71/71 [==============================] - 30s 415ms/step - loss: 0.0021\n",
      "Epoch 34/50\n",
      "71/71 [==============================] - 29s 413ms/step - loss: 0.0022\n",
      "Epoch 35/50\n",
      "71/71 [==============================] - 30s 416ms/step - loss: 0.0021\n",
      "Epoch 36/50\n",
      "71/71 [==============================] - 30s 419ms/step - loss: 0.0019\n",
      "Epoch 37/50\n",
      "71/71 [==============================] - 30s 418ms/step - loss: 0.0021\n",
      "Epoch 38/50\n",
      "71/71 [==============================] - 30s 415ms/step - loss: 0.0019\n",
      "Epoch 39/50\n",
      "71/71 [==============================] - 32s 447ms/step - loss: 0.0020\n",
      "Epoch 40/50\n",
      "71/71 [==============================] - 29s 404ms/step - loss: 0.0019\n",
      "Epoch 41/50\n",
      "71/71 [==============================] - 29s 404ms/step - loss: 0.0020\n",
      "Epoch 42/50\n",
      "71/71 [==============================] - 29s 403ms/step - loss: 0.0017\n",
      "Epoch 43/50\n",
      "71/71 [==============================] - 28s 400ms/step - loss: 0.0020\n",
      "Epoch 44/50\n",
      "71/71 [==============================] - 29s 402ms/step - loss: 0.0017\n",
      "Epoch 45/50\n",
      "71/71 [==============================] - 29s 404ms/step - loss: 0.0018\n",
      "Epoch 46/50\n",
      "71/71 [==============================] - 29s 405ms/step - loss: 0.0019\n",
      "Epoch 47/50\n",
      "71/71 [==============================] - 29s 402ms/step - loss: 0.0018\n",
      "Epoch 48/50\n",
      "71/71 [==============================] - 30s 420ms/step - loss: 0.0021\n",
      "Epoch 49/50\n",
      "71/71 [==============================] - 30s 425ms/step - loss: 0.0017\n",
      "Epoch 50/50\n",
      "71/71 [==============================] - 29s 411ms/step - loss: 0.0018\n"
     ]
    },
    {
     "data": {
      "text/plain": [
       "<keras.callbacks.History at 0x20ff960a650>"
      ]
     },
     "execution_count": 26,
     "metadata": {},
     "output_type": "execute_result"
    }
   ],
   "source": [
    "model.compile(optimizer='adam',loss='mean_squared_error')\n",
    "model.fit(x_train,y_train,epochs=50)"
   ]
  },
  {
   "cell_type": "code",
   "execution_count": 27,
   "id": "62961742",
   "metadata": {},
   "outputs": [
    {
     "name": "stderr",
     "output_type": "stream",
     "text": [
      "WARNING:absl:Found untraced functions such as _update_step_xla while saving (showing 1 of 1). These functions will not be directly callable after loading.\n"
     ]
    },
    {
     "name": "stdout",
     "output_type": "stream",
     "text": [
      "INFO:tensorflow:Assets written to: keras_model\\assets\n"
     ]
    },
    {
     "name": "stderr",
     "output_type": "stream",
     "text": [
      "INFO:tensorflow:Assets written to: keras_model\\assets\n"
     ]
    }
   ],
   "source": [
    "model.save('keras_model')"
   ]
  },
  {
   "cell_type": "code",
   "execution_count": 28,
   "id": "defcc543",
   "metadata": {},
   "outputs": [
    {
     "data": {
      "text/html": [
       "<div>\n",
       "<style scoped>\n",
       "    .dataframe tbody tr th:only-of-type {\n",
       "        vertical-align: middle;\n",
       "    }\n",
       "\n",
       "    .dataframe tbody tr th {\n",
       "        vertical-align: top;\n",
       "    }\n",
       "\n",
       "    .dataframe thead th {\n",
       "        text-align: right;\n",
       "    }\n",
       "</style>\n",
       "<table border=\"1\" class=\"dataframe\">\n",
       "  <thead>\n",
       "    <tr style=\"text-align: right;\">\n",
       "      <th></th>\n",
       "      <th>Close</th>\n",
       "    </tr>\n",
       "  </thead>\n",
       "  <tbody>\n",
       "    <tr>\n",
       "      <th>2366</th>\n",
       "      <td>44.575001</td>\n",
       "    </tr>\n",
       "    <tr>\n",
       "      <th>2367</th>\n",
       "      <td>43.767502</td>\n",
       "    </tr>\n",
       "    <tr>\n",
       "      <th>2368</th>\n",
       "      <td>43.325001</td>\n",
       "    </tr>\n",
       "    <tr>\n",
       "      <th>2369</th>\n",
       "      <td>44.910000</td>\n",
       "    </tr>\n",
       "    <tr>\n",
       "      <th>2370</th>\n",
       "      <td>45.634998</td>\n",
       "    </tr>\n",
       "  </tbody>\n",
       "</table>\n",
       "</div>"
      ],
      "text/plain": [
       "          Close\n",
       "2366  44.575001\n",
       "2367  43.767502\n",
       "2368  43.325001\n",
       "2369  44.910000\n",
       "2370  45.634998"
      ]
     },
     "execution_count": 28,
     "metadata": {},
     "output_type": "execute_result"
    }
   ],
   "source": [
    "data_testing.head()"
   ]
  },
  {
   "cell_type": "code",
   "execution_count": 29,
   "id": "1a6941c6",
   "metadata": {},
   "outputs": [],
   "source": [
    "past_100_days = data_training.tail(100)"
   ]
  },
  {
   "cell_type": "code",
   "execution_count": 34,
   "id": "a4124672",
   "metadata": {},
   "outputs": [],
   "source": [
    "final_df = pd.concat([past_100_days,data_testing],ignore_index=True)"
   ]
  },
  {
   "cell_type": "code",
   "execution_count": 35,
   "id": "f84652c1",
   "metadata": {},
   "outputs": [
    {
     "data": {
      "text/html": [
       "<div>\n",
       "<style scoped>\n",
       "    .dataframe tbody tr th:only-of-type {\n",
       "        vertical-align: middle;\n",
       "    }\n",
       "\n",
       "    .dataframe tbody tr th {\n",
       "        vertical-align: top;\n",
       "    }\n",
       "\n",
       "    .dataframe thead th {\n",
       "        text-align: right;\n",
       "    }\n",
       "</style>\n",
       "<table border=\"1\" class=\"dataframe\">\n",
       "  <thead>\n",
       "    <tr style=\"text-align: right;\">\n",
       "      <th></th>\n",
       "      <th>Close</th>\n",
       "    </tr>\n",
       "  </thead>\n",
       "  <tbody>\n",
       "    <tr>\n",
       "      <th>0</th>\n",
       "      <td>37.064999</td>\n",
       "    </tr>\n",
       "    <tr>\n",
       "      <th>1</th>\n",
       "      <td>36.982498</td>\n",
       "    </tr>\n",
       "    <tr>\n",
       "      <th>2</th>\n",
       "      <td>37.687500</td>\n",
       "    </tr>\n",
       "    <tr>\n",
       "      <th>3</th>\n",
       "      <td>38.327499</td>\n",
       "    </tr>\n",
       "    <tr>\n",
       "      <th>4</th>\n",
       "      <td>38.450001</td>\n",
       "    </tr>\n",
       "  </tbody>\n",
       "</table>\n",
       "</div>"
      ],
      "text/plain": [
       "       Close\n",
       "0  37.064999\n",
       "1  36.982498\n",
       "2  37.687500\n",
       "3  38.327499\n",
       "4  38.450001"
      ]
     },
     "execution_count": 35,
     "metadata": {},
     "output_type": "execute_result"
    }
   ],
   "source": [
    "final_df.head()"
   ]
  },
  {
   "cell_type": "code",
   "execution_count": 38,
   "id": "e226af13",
   "metadata": {},
   "outputs": [
    {
     "data": {
      "text/plain": [
       "array([[5.68860801e-04],\n",
       "       [0.00000000e+00],\n",
       "       [4.86115977e-03],\n",
       "       ...,\n",
       "       [9.80693400e-01],\n",
       "       [9.71109015e-01],\n",
       "       [9.84141023e-01]])"
      ]
     },
     "execution_count": 38,
     "metadata": {},
     "output_type": "execute_result"
    }
   ],
   "source": [
    "input_data=scaler.fit_transform(final_df)\n",
    "input_data"
   ]
  },
  {
   "cell_type": "code",
   "execution_count": 39,
   "id": "41a4de72",
   "metadata": {},
   "outputs": [
    {
     "data": {
      "text/plain": [
       "(1115, 1)"
      ]
     },
     "execution_count": 39,
     "metadata": {},
     "output_type": "execute_result"
    }
   ],
   "source": [
    "input_data.shape"
   ]
  },
  {
   "cell_type": "code",
   "execution_count": 40,
   "id": "92c85d21",
   "metadata": {},
   "outputs": [],
   "source": [
    "x_test = []\n",
    "y_test = []\n",
    "\n",
    "for i in range(100,input_data.shape[0]):\n",
    "    x_test.append(input_data[i-100:i])\n",
    "    y_test.append(input_data[i,0])"
   ]
  },
  {
   "cell_type": "code",
   "execution_count": 41,
   "id": "2d4b0f19",
   "metadata": {},
   "outputs": [
    {
     "name": "stdout",
     "output_type": "stream",
     "text": [
      "(1015, 100, 1)\n",
      "(1015,)\n"
     ]
    }
   ],
   "source": [
    "x_test,y_test=np.array(x_test),np.array(y_test)\n",
    "print(x_test.shape)\n",
    "print(y_test.shape)"
   ]
  },
  {
   "cell_type": "code",
   "execution_count": 42,
   "id": "5dd4b491",
   "metadata": {},
   "outputs": [
    {
     "name": "stdout",
     "output_type": "stream",
     "text": [
      "32/32 [==============================] - 8s 132ms/step\n"
     ]
    }
   ],
   "source": [
    "#Making Predictions\n",
    "\n",
    "y_predicted = model.predict(x_test)"
   ]
  },
  {
   "cell_type": "code",
   "execution_count": 43,
   "id": "f5bb97cc",
   "metadata": {},
   "outputs": [
    {
     "data": {
      "text/plain": [
       "(1015, 1)"
      ]
     },
     "execution_count": 43,
     "metadata": {},
     "output_type": "execute_result"
    }
   ],
   "source": [
    "y_predicted.shape"
   ]
  },
  {
   "cell_type": "code",
   "execution_count": 44,
   "id": "f1cf1b22",
   "metadata": {},
   "outputs": [
    {
     "data": {
      "text/plain": [
       "array([0.05235216, 0.04678426, 0.0437331 , ..., 0.9806934 , 0.97110902,\n",
       "       0.98414102])"
      ]
     },
     "execution_count": 44,
     "metadata": {},
     "output_type": "execute_result"
    }
   ],
   "source": [
    "y_test"
   ]
  },
  {
   "cell_type": "code",
   "execution_count": 45,
   "id": "76f54f51",
   "metadata": {},
   "outputs": [
    {
     "data": {
      "text/plain": [
       "array([[0.1469751 ],\n",
       "       [0.14490485],\n",
       "       [0.14289314],\n",
       "       ...,\n",
       "       [0.8743379 ],\n",
       "       [0.87965095],\n",
       "       [0.8839611 ]], dtype=float32)"
      ]
     },
     "execution_count": 45,
     "metadata": {},
     "output_type": "execute_result"
    }
   ],
   "source": [
    "y_predicted"
   ]
  },
  {
   "cell_type": "code",
   "execution_count": 47,
   "id": "251c25e3",
   "metadata": {},
   "outputs": [
    {
     "data": {
      "text/plain": [
       "array([0.00689524])"
      ]
     },
     "execution_count": 47,
     "metadata": {},
     "output_type": "execute_result"
    }
   ],
   "source": [
    "scaler.scale_"
   ]
  },
  {
   "cell_type": "code",
   "execution_count": 48,
   "id": "51db8013",
   "metadata": {},
   "outputs": [],
   "source": [
    "scale_factor = 1/0.00689524\n",
    "y_predicted = y_predicted*scale_factor\n",
    "y_test = y_test*scale_factor"
   ]
  },
  {
   "cell_type": "code",
   "execution_count": 49,
   "id": "9c422446",
   "metadata": {},
   "outputs": [
    {
     "data": {
      "image/png": "[encoded data removed]",
      "text/plain": [
       "<Figure size 1200x600 with 1 Axes>"
      ]
     },
     "metadata": {},
     "output_type": "display_data"
    }
   ],
   "source": [
    "plt.figure(figsize=(12,6))\n",
    "plt.plot(y_test,'b',label='Original Price')\n",
    "plt.plot(y_predicted,'r',label='Predicted Price')\n",
    "plt.xlabel('Time')\n",
    "plt.ylabel('Price')\n",
    "plt.legend()\n",
    "plt.show()"
   ]
  },
  {
   "cell_type": "code",
   "execution_count": null,
   "id": "7c54746b",
   "metadata": {},
   "outputs": [],
   "source": []
  }
 ],
 "metadata": {
  "kernelspec": {
   "display_name": "Python 3 (ipykernel)",
   "language": "python",
   "name": "python3"
  },
  "language_info": {
   "codemirror_mode": {
    "name": "ipython",
    "version": 3
   },
   "file_extension": ".py",
   "mimetype": "text/x-python",
   "name": "python",
   "nbconvert_exporter": "python",
   "pygments_lexer": "ipython3",
   "version": "3.10.0"
  }
 },
 "nbformat": 4,
 "nbformat_minor": 5
}
